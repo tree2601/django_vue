{
 "cells": [
  {
   "cell_type": "markdown",
   "source": [
    "### 本代码主要内容是实现 基于物品的协同过滤算法\n",
    "生成模拟物品"
   ],
   "metadata": {
    "collapsed": false
   },
   "id": "ddabb78d2190f3bd"
  },
  {
   "cell_type": "code",
   "execution_count": 67,
   "id": "initial_id",
   "metadata": {
    "collapsed": true,
    "ExecuteTime": {
     "end_time": "2023-11-07T08:53:28.358418900Z",
     "start_time": "2023-11-07T08:53:28.335349Z"
    }
   },
   "outputs": [],
   "source": [
    "# 导入相关的包\n",
    "import pandas as pd\n",
    "import numpy as np"
   ]
  },
  {
   "cell_type": "markdown",
   "source": [
    "#### 生成模拟物品\n",
    "\n",
    "* 物品可以是任何东西，比如电影、书籍、商品等等"
   ],
   "metadata": {
    "collapsed": false
   },
   "id": "caf455a8eca942de"
  },
  {
   "cell_type": "code",
   "execution_count": 68,
   "outputs": [],
   "source": [
    "items = ['jQueryEasyUI ', 'JSON', 'PHP', 'jQuery', 'WebService', 'XLink', 'XQuery', 'HTML5', 'AngularJS2', 'Ruby', 'VBScript', 'HTMLDOM', 'Bootstrap5', 'XSLT', 'algorithms', 'TCPIP', 'WebPages', 'RSS', 'name', 'React', 'regular', 'Highcharts', 'NumPy', 'PostgreSQL', 'RDF', 'Bootstrap3', 'XPointer', 'Go', 'Maven', 'WebsiteQuality', 'Eclipse', 'Svn', 'C', 'SQL', 'XMLSchema', 'Memcached', 'Designpatterns', 'servlet', 'Markdown', 'Kotlin', 'AppML', 'SVG', 'Rust', 'Perl', 'C#', 'R', 'Linux', 'WebForms', 'WSDL', 'Java', 'HTML', 'jQuery Mobile', 'SOAP', 'MVC', 'W3C', 'DTD', 'AJAX', 'JavaScript', 'Bootstrap4', 'Pandas', 'ASP.NET', 'BrowserInformation', 'Git', 'ionic', 'WebHosting', 'XML', 'Echarts', 'Scala', 'Django', 'AngularJS', 'Redis', 'Julia', 'SQLite', 'Vue3', 'HTTP', 'Vuejs', 'Foundation', 'Python2x', 'MySQL', 'ASP', 'XSLFO', 'jQueryUI', 'Googlemap', 'CSS', 'WebsiteBuilding', 'Nodejs', 'JSP', 'Razor', 'XMLDOM', 'MongoDB', 'XPath', 'Cpp', 'Chartjs', 'Docker', 'Python', 'FontAwesome', 'Matplotlib', 'CSS3', 'TypeScript', 'Swift', 'Lua', 'Scipy']\n",
    "#去重\n",
    "items = list(set(items))"
   ],
   "metadata": {
    "collapsed": false,
    "ExecuteTime": {
     "end_time": "2023-11-07T08:53:29.584576Z",
     "start_time": "2023-11-07T08:53:29.567491200Z"
    }
   },
   "id": "1ee455dba8990cb6"
  },
  {
   "cell_type": "code",
   "execution_count": 71,
   "outputs": [],
   "source": [
    "# 随机生成10000个用户\n",
    "users = ['user'+str(i) for i in range(10000)]"
   ],
   "metadata": {
    "collapsed": false,
    "ExecuteTime": {
     "end_time": "2023-11-07T08:53:35.669200300Z",
     "start_time": "2023-11-07T08:53:35.645155900Z"
    }
   },
   "id": "5b34da8e5627ca51"
  },
  {
   "cell_type": "code",
   "execution_count": 72,
   "outputs": [],
   "source": [
    "# 随机生成用户对物品的评分 0-10分 0表示用户没有对该物品评分\n",
    "ratings = users.copy()\n",
    "for i in range(len(users)):\n",
    "    ratings[i] = np.random.randint(0,11,len(items))"
   ],
   "metadata": {
    "collapsed": false,
    "ExecuteTime": {
     "end_time": "2023-11-07T08:53:36.478197600Z",
     "start_time": "2023-11-07T08:53:36.289100600Z"
    }
   },
   "id": "609ea17506a05489"
  },
  {
   "cell_type": "code",
   "execution_count": 73,
   "outputs": [],
   "source": [
    "# 将用户对物品的评分转换为DataFrame\n",
    "ratings = pd.DataFrame(ratings,index=users,columns=items)"
   ],
   "metadata": {
    "collapsed": false,
    "ExecuteTime": {
     "end_time": "2023-11-07T08:53:37.908887500Z",
     "start_time": "2023-11-07T08:53:37.330850800Z"
    }
   },
   "id": "3040734c2e390a42"
  },
  {
   "cell_type": "code",
   "execution_count": 74,
   "outputs": [],
   "source": [
    "# 添加user列\n",
    "ratings['user'] = ratings.index"
   ],
   "metadata": {
    "collapsed": false,
    "ExecuteTime": {
     "end_time": "2023-11-07T08:53:38.229892700Z",
     "start_time": "2023-11-07T08:53:38.206799500Z"
    }
   },
   "id": "5646866cc620713e"
  },
  {
   "cell_type": "code",
   "execution_count": 75,
   "outputs": [],
   "source": [
    "# 将user列放在第一列\n",
    "cols = ratings.columns.tolist()\n",
    "cols = cols[-1:] + cols[:-1]\n",
    "ratings = ratings[cols]"
   ],
   "metadata": {
    "collapsed": false,
    "ExecuteTime": {
     "end_time": "2023-11-07T08:53:39.272918300Z",
     "start_time": "2023-11-07T08:53:39.250931300Z"
    }
   },
   "id": "4b6d8c6c05802aae"
  },
  {
   "cell_type": "code",
   "execution_count": 76,
   "outputs": [],
   "source": [
    "# 去掉index\n",
    "ratings = ratings.reset_index(drop=True)"
   ],
   "metadata": {
    "collapsed": false,
    "ExecuteTime": {
     "end_time": "2023-11-07T08:53:40.486281100Z",
     "start_time": "2023-11-07T08:53:40.452289700Z"
    }
   },
   "id": "a58050bf37dc7216"
  },
  {
   "cell_type": "code",
   "execution_count": 77,
   "outputs": [],
   "source": [
    "# 对数据随机填充0 user列不填充 0表示用户没有对该物品评分  该操作是为了模拟用户对物品的评分不是完全的\n",
    "for i in range(len(users)):\n",
    "    ratings.iloc[i,1:] = np.random.choice([0,ratings.iloc[i,1]],len(items),p=[0.2,0.8])"
   ],
   "metadata": {
    "collapsed": false,
    "ExecuteTime": {
     "end_time": "2023-11-07T08:54:25.710582Z",
     "start_time": "2023-11-07T08:53:41.564847900Z"
    }
   },
   "id": "112f338dad5754a8"
  },
  {
   "cell_type": "code",
   "execution_count": 78,
   "outputs": [
    {
     "data": {
      "text/plain": "          user  CSS3  HTML  Googlemap  Memcached  name  Git  Cpp  jQueryUI  \\\n0        user0     2     2          2          2     2    2    2         2   \n1        user1     7     0          7          0     7    7    7         7   \n2        user2     0     0          0          0     0    0    0         0   \n3        user3     9     9          9          9     9    0    0         9   \n4        user4     0     5          5          5     5    5    5         5   \n...        ...   ...   ...        ...        ...   ...  ...  ...       ...   \n9995  user9995     9     9          9          9     9    0    9         0   \n9996  user9996     0     0          0          0     0    0    0         0   \n9997  user9997     4     0          0          4     4    0    4         4   \n9998  user9998     9     9          9          0     9    0    9         0   \n9999  user9999     0     3          3          3     0    0    3         3   \n\n      NumPy  ...  HTTP  R  WebForms  Markdown  Lua  AngularJS2  React  Ruby  \\\n0         2  ...     2  0         2         2    2           2      0     2   \n1         7  ...     7  7         7         7    7           7      7     7   \n2         0  ...     0  0         0         0    0           0      0     0   \n3         0  ...     9  9         9         9    9           9      9     9   \n4         5  ...     0  0         5         5    0           5      5     5   \n...     ...  ...   ... ..       ...       ...  ...         ...    ...   ...   \n9995      9  ...     9  9         9         9    9           0      9     9   \n9996      0  ...     0  0         0         0    0           0      0     0   \n9997      4  ...     4  4         4         4    4           4      4     4   \n9998      9  ...     9  9         9         9    9           9      0     9   \n9999      0  ...     3  3         3         3    3           3      3     3   \n\n      jQueryEasyUI   regular  \n0                 0        0  \n1                 7        7  \n2                 0        0  \n3                 9        9  \n4                 5        5  \n...             ...      ...  \n9995              0        9  \n9996              0        0  \n9997              4        4  \n9998              0        9  \n9999              3        3  \n\n[10000 rows x 103 columns]",
      "text/html": "<div>\n<style scoped>\n    .dataframe tbody tr th:only-of-type {\n        vertical-align: middle;\n    }\n\n    .dataframe tbody tr th {\n        vertical-align: top;\n    }\n\n    .dataframe thead th {\n        text-align: right;\n    }\n</style>\n<table border=\"1\" class=\"dataframe\">\n  <thead>\n    <tr style=\"text-align: right;\">\n      <th></th>\n      <th>user</th>\n      <th>CSS3</th>\n      <th>HTML</th>\n      <th>Googlemap</th>\n      <th>Memcached</th>\n      <th>name</th>\n      <th>Git</th>\n      <th>Cpp</th>\n      <th>jQueryUI</th>\n      <th>NumPy</th>\n      <th>...</th>\n      <th>HTTP</th>\n      <th>R</th>\n      <th>WebForms</th>\n      <th>Markdown</th>\n      <th>Lua</th>\n      <th>AngularJS2</th>\n      <th>React</th>\n      <th>Ruby</th>\n      <th>jQueryEasyUI</th>\n      <th>regular</th>\n    </tr>\n  </thead>\n  <tbody>\n    <tr>\n      <th>0</th>\n      <td>user0</td>\n      <td>2</td>\n      <td>2</td>\n      <td>2</td>\n      <td>2</td>\n      <td>2</td>\n      <td>2</td>\n      <td>2</td>\n      <td>2</td>\n      <td>2</td>\n      <td>...</td>\n      <td>2</td>\n      <td>0</td>\n      <td>2</td>\n      <td>2</td>\n      <td>2</td>\n      <td>2</td>\n      <td>0</td>\n      <td>2</td>\n      <td>0</td>\n      <td>0</td>\n    </tr>\n    <tr>\n      <th>1</th>\n      <td>user1</td>\n      <td>7</td>\n      <td>0</td>\n      <td>7</td>\n      <td>0</td>\n      <td>7</td>\n      <td>7</td>\n      <td>7</td>\n      <td>7</td>\n      <td>7</td>\n      <td>...</td>\n      <td>7</td>\n      <td>7</td>\n      <td>7</td>\n      <td>7</td>\n      <td>7</td>\n      <td>7</td>\n      <td>7</td>\n      <td>7</td>\n      <td>7</td>\n      <td>7</td>\n    </tr>\n    <tr>\n      <th>2</th>\n      <td>user2</td>\n      <td>0</td>\n      <td>0</td>\n      <td>0</td>\n      <td>0</td>\n      <td>0</td>\n      <td>0</td>\n      <td>0</td>\n      <td>0</td>\n      <td>0</td>\n      <td>...</td>\n      <td>0</td>\n      <td>0</td>\n      <td>0</td>\n      <td>0</td>\n      <td>0</td>\n      <td>0</td>\n      <td>0</td>\n      <td>0</td>\n      <td>0</td>\n      <td>0</td>\n    </tr>\n    <tr>\n      <th>3</th>\n      <td>user3</td>\n      <td>9</td>\n      <td>9</td>\n      <td>9</td>\n      <td>9</td>\n      <td>9</td>\n      <td>0</td>\n      <td>0</td>\n      <td>9</td>\n      <td>0</td>\n      <td>...</td>\n      <td>9</td>\n      <td>9</td>\n      <td>9</td>\n      <td>9</td>\n      <td>9</td>\n      <td>9</td>\n      <td>9</td>\n      <td>9</td>\n      <td>9</td>\n      <td>9</td>\n    </tr>\n    <tr>\n      <th>4</th>\n      <td>user4</td>\n      <td>0</td>\n      <td>5</td>\n      <td>5</td>\n      <td>5</td>\n      <td>5</td>\n      <td>5</td>\n      <td>5</td>\n      <td>5</td>\n      <td>5</td>\n      <td>...</td>\n      <td>0</td>\n      <td>0</td>\n      <td>5</td>\n      <td>5</td>\n      <td>0</td>\n      <td>5</td>\n      <td>5</td>\n      <td>5</td>\n      <td>5</td>\n      <td>5</td>\n    </tr>\n    <tr>\n      <th>...</th>\n      <td>...</td>\n      <td>...</td>\n      <td>...</td>\n      <td>...</td>\n      <td>...</td>\n      <td>...</td>\n      <td>...</td>\n      <td>...</td>\n      <td>...</td>\n      <td>...</td>\n      <td>...</td>\n      <td>...</td>\n      <td>...</td>\n      <td>...</td>\n      <td>...</td>\n      <td>...</td>\n      <td>...</td>\n      <td>...</td>\n      <td>...</td>\n      <td>...</td>\n      <td>...</td>\n    </tr>\n    <tr>\n      <th>9995</th>\n      <td>user9995</td>\n      <td>9</td>\n      <td>9</td>\n      <td>9</td>\n      <td>9</td>\n      <td>9</td>\n      <td>0</td>\n      <td>9</td>\n      <td>0</td>\n      <td>9</td>\n      <td>...</td>\n      <td>9</td>\n      <td>9</td>\n      <td>9</td>\n      <td>9</td>\n      <td>9</td>\n      <td>0</td>\n      <td>9</td>\n      <td>9</td>\n      <td>0</td>\n      <td>9</td>\n    </tr>\n    <tr>\n      <th>9996</th>\n      <td>user9996</td>\n      <td>0</td>\n      <td>0</td>\n      <td>0</td>\n      <td>0</td>\n      <td>0</td>\n      <td>0</td>\n      <td>0</td>\n      <td>0</td>\n      <td>0</td>\n      <td>...</td>\n      <td>0</td>\n      <td>0</td>\n      <td>0</td>\n      <td>0</td>\n      <td>0</td>\n      <td>0</td>\n      <td>0</td>\n      <td>0</td>\n      <td>0</td>\n      <td>0</td>\n    </tr>\n    <tr>\n      <th>9997</th>\n      <td>user9997</td>\n      <td>4</td>\n      <td>0</td>\n      <td>0</td>\n      <td>4</td>\n      <td>4</td>\n      <td>0</td>\n      <td>4</td>\n      <td>4</td>\n      <td>4</td>\n      <td>...</td>\n      <td>4</td>\n      <td>4</td>\n      <td>4</td>\n      <td>4</td>\n      <td>4</td>\n      <td>4</td>\n      <td>4</td>\n      <td>4</td>\n      <td>4</td>\n      <td>4</td>\n    </tr>\n    <tr>\n      <th>9998</th>\n      <td>user9998</td>\n      <td>9</td>\n      <td>9</td>\n      <td>9</td>\n      <td>0</td>\n      <td>9</td>\n      <td>0</td>\n      <td>9</td>\n      <td>0</td>\n      <td>9</td>\n      <td>...</td>\n      <td>9</td>\n      <td>9</td>\n      <td>9</td>\n      <td>9</td>\n      <td>9</td>\n      <td>9</td>\n      <td>0</td>\n      <td>9</td>\n      <td>0</td>\n      <td>9</td>\n    </tr>\n    <tr>\n      <th>9999</th>\n      <td>user9999</td>\n      <td>0</td>\n      <td>3</td>\n      <td>3</td>\n      <td>3</td>\n      <td>0</td>\n      <td>0</td>\n      <td>3</td>\n      <td>3</td>\n      <td>0</td>\n      <td>...</td>\n      <td>3</td>\n      <td>3</td>\n      <td>3</td>\n      <td>3</td>\n      <td>3</td>\n      <td>3</td>\n      <td>3</td>\n      <td>3</td>\n      <td>3</td>\n      <td>3</td>\n    </tr>\n  </tbody>\n</table>\n<p>10000 rows × 103 columns</p>\n</div>"
     },
     "execution_count": 78,
     "metadata": {},
     "output_type": "execute_result"
    }
   ],
   "source": [
    "ratings"
   ],
   "metadata": {
    "collapsed": false,
    "ExecuteTime": {
     "end_time": "2023-11-07T08:54:25.767546800Z",
     "start_time": "2023-11-07T08:54:25.722561200Z"
    }
   },
   "id": "ba373ae3ddb7e5cb"
  },
  {
   "cell_type": "code",
   "execution_count": 79,
   "outputs": [],
   "source": [
    "# 保存数据\n",
    "ratings.to_csv('datasets/cainiao_based.csv',index=False)"
   ],
   "metadata": {
    "collapsed": false,
    "ExecuteTime": {
     "end_time": "2023-11-07T08:54:25.946667Z",
     "start_time": "2023-11-07T08:54:25.745544900Z"
    }
   },
   "id": "9c4425047a8b62c7"
  }
 ],
 "metadata": {
  "kernelspec": {
   "display_name": "Python 3",
   "language": "python",
   "name": "python3"
  },
  "language_info": {
   "codemirror_mode": {
    "name": "ipython",
    "version": 2
   },
   "file_extension": ".py",
   "mimetype": "text/x-python",
   "name": "python",
   "nbconvert_exporter": "python",
   "pygments_lexer": "ipython2",
   "version": "2.7.6"
  }
 },
 "nbformat": 4,
 "nbformat_minor": 5
}
