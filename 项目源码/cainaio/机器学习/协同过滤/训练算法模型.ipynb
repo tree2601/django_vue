{
 "cells": [
  {
   "cell_type": "markdown",
   "source": [
    "### 基于物品的协同过滤算法"
   ],
   "metadata": {
    "collapsed": false
   },
   "id": "54ab922504bce963"
  },
  {
   "cell_type": "code",
   "execution_count": 3,
   "id": "initial_id",
   "metadata": {
    "collapsed": true,
    "ExecuteTime": {
     "end_time": "2023-11-08T10:46:48.488049300Z",
     "start_time": "2023-11-08T10:46:48.463050400Z"
    }
   },
   "outputs": [],
   "source": [
    "# 导入相关的包\n",
    "import pandas as pd\n",
    "from sklearn.metrics.pairwise import cosine_similarity\n",
    "import numpy as np"
   ]
  },
  {
   "cell_type": "code",
   "execution_count": 4,
   "outputs": [],
   "source": [
    "# 读取数据\n",
    "item_based = pd.read_csv('datasets/cainiao_based.csv')"
   ],
   "metadata": {
    "collapsed": false,
    "ExecuteTime": {
     "end_time": "2023-11-08T10:46:48.573531400Z",
     "start_time": "2023-11-08T10:46:48.477043900Z"
    }
   },
   "id": "e431e4d75654bda6"
  },
  {
   "cell_type": "code",
   "execution_count": 5,
   "outputs": [
    {
     "data": {
      "text/plain": "          user  CSS3  HTML  Googlemap  Memcached  name  Git  Cpp  jQueryUI  \\\n0        user0     2     2          2          2     2    2    2         2   \n1        user1     7     0          7          0     7    7    7         7   \n2        user2     0     0          0          0     0    0    0         0   \n3        user3     9     9          9          9     9    0    0         9   \n4        user4     0     5          5          5     5    5    5         5   \n...        ...   ...   ...        ...        ...   ...  ...  ...       ...   \n9995  user9995     9     9          9          9     9    0    9         0   \n9996  user9996     0     0          0          0     0    0    0         0   \n9997  user9997     4     0          0          4     4    0    4         4   \n9998  user9998     9     9          9          0     9    0    9         0   \n9999  user9999     0     3          3          3     0    0    3         3   \n\n      NumPy  ...  HTTP  R  WebForms  Markdown  Lua  AngularJS2  React  Ruby  \\\n0         2  ...     2  0         2         2    2           2      0     2   \n1         7  ...     7  7         7         7    7           7      7     7   \n2         0  ...     0  0         0         0    0           0      0     0   \n3         0  ...     9  9         9         9    9           9      9     9   \n4         5  ...     0  0         5         5    0           5      5     5   \n...     ...  ...   ... ..       ...       ...  ...         ...    ...   ...   \n9995      9  ...     9  9         9         9    9           0      9     9   \n9996      0  ...     0  0         0         0    0           0      0     0   \n9997      4  ...     4  4         4         4    4           4      4     4   \n9998      9  ...     9  9         9         9    9           9      0     9   \n9999      0  ...     3  3         3         3    3           3      3     3   \n\n      jQueryEasyUI   regular  \n0                 0        0  \n1                 7        7  \n2                 0        0  \n3                 9        9  \n4                 5        5  \n...             ...      ...  \n9995              0        9  \n9996              0        0  \n9997              4        4  \n9998              0        9  \n9999              3        3  \n\n[10000 rows x 103 columns]",
      "text/html": "<div>\n<style scoped>\n    .dataframe tbody tr th:only-of-type {\n        vertical-align: middle;\n    }\n\n    .dataframe tbody tr th {\n        vertical-align: top;\n    }\n\n    .dataframe thead th {\n        text-align: right;\n    }\n</style>\n<table border=\"1\" class=\"dataframe\">\n  <thead>\n    <tr style=\"text-align: right;\">\n      <th></th>\n      <th>user</th>\n      <th>CSS3</th>\n      <th>HTML</th>\n      <th>Googlemap</th>\n      <th>Memcached</th>\n      <th>name</th>\n      <th>Git</th>\n      <th>Cpp</th>\n      <th>jQueryUI</th>\n      <th>NumPy</th>\n      <th>...</th>\n      <th>HTTP</th>\n      <th>R</th>\n      <th>WebForms</th>\n      <th>Markdown</th>\n      <th>Lua</th>\n      <th>AngularJS2</th>\n      <th>React</th>\n      <th>Ruby</th>\n      <th>jQueryEasyUI</th>\n      <th>regular</th>\n    </tr>\n  </thead>\n  <tbody>\n    <tr>\n      <th>0</th>\n      <td>user0</td>\n      <td>2</td>\n      <td>2</td>\n      <td>2</td>\n      <td>2</td>\n      <td>2</td>\n      <td>2</td>\n      <td>2</td>\n      <td>2</td>\n      <td>2</td>\n      <td>...</td>\n      <td>2</td>\n      <td>0</td>\n      <td>2</td>\n      <td>2</td>\n      <td>2</td>\n      <td>2</td>\n      <td>0</td>\n      <td>2</td>\n      <td>0</td>\n      <td>0</td>\n    </tr>\n    <tr>\n      <th>1</th>\n      <td>user1</td>\n      <td>7</td>\n      <td>0</td>\n      <td>7</td>\n      <td>0</td>\n      <td>7</td>\n      <td>7</td>\n      <td>7</td>\n      <td>7</td>\n      <td>7</td>\n      <td>...</td>\n      <td>7</td>\n      <td>7</td>\n      <td>7</td>\n      <td>7</td>\n      <td>7</td>\n      <td>7</td>\n      <td>7</td>\n      <td>7</td>\n      <td>7</td>\n      <td>7</td>\n    </tr>\n    <tr>\n      <th>2</th>\n      <td>user2</td>\n      <td>0</td>\n      <td>0</td>\n      <td>0</td>\n      <td>0</td>\n      <td>0</td>\n      <td>0</td>\n      <td>0</td>\n      <td>0</td>\n      <td>0</td>\n      <td>...</td>\n      <td>0</td>\n      <td>0</td>\n      <td>0</td>\n      <td>0</td>\n      <td>0</td>\n      <td>0</td>\n      <td>0</td>\n      <td>0</td>\n      <td>0</td>\n      <td>0</td>\n    </tr>\n    <tr>\n      <th>3</th>\n      <td>user3</td>\n      <td>9</td>\n      <td>9</td>\n      <td>9</td>\n      <td>9</td>\n      <td>9</td>\n      <td>0</td>\n      <td>0</td>\n      <td>9</td>\n      <td>0</td>\n      <td>...</td>\n      <td>9</td>\n      <td>9</td>\n      <td>9</td>\n      <td>9</td>\n      <td>9</td>\n      <td>9</td>\n      <td>9</td>\n      <td>9</td>\n      <td>9</td>\n      <td>9</td>\n    </tr>\n    <tr>\n      <th>4</th>\n      <td>user4</td>\n      <td>0</td>\n      <td>5</td>\n      <td>5</td>\n      <td>5</td>\n      <td>5</td>\n      <td>5</td>\n      <td>5</td>\n      <td>5</td>\n      <td>5</td>\n      <td>...</td>\n      <td>0</td>\n      <td>0</td>\n      <td>5</td>\n      <td>5</td>\n      <td>0</td>\n      <td>5</td>\n      <td>5</td>\n      <td>5</td>\n      <td>5</td>\n      <td>5</td>\n    </tr>\n    <tr>\n      <th>...</th>\n      <td>...</td>\n      <td>...</td>\n      <td>...</td>\n      <td>...</td>\n      <td>...</td>\n      <td>...</td>\n      <td>...</td>\n      <td>...</td>\n      <td>...</td>\n      <td>...</td>\n      <td>...</td>\n      <td>...</td>\n      <td>...</td>\n      <td>...</td>\n      <td>...</td>\n      <td>...</td>\n      <td>...</td>\n      <td>...</td>\n      <td>...</td>\n      <td>...</td>\n      <td>...</td>\n    </tr>\n    <tr>\n      <th>9995</th>\n      <td>user9995</td>\n      <td>9</td>\n      <td>9</td>\n      <td>9</td>\n      <td>9</td>\n      <td>9</td>\n      <td>0</td>\n      <td>9</td>\n      <td>0</td>\n      <td>9</td>\n      <td>...</td>\n      <td>9</td>\n      <td>9</td>\n      <td>9</td>\n      <td>9</td>\n      <td>9</td>\n      <td>0</td>\n      <td>9</td>\n      <td>9</td>\n      <td>0</td>\n      <td>9</td>\n    </tr>\n    <tr>\n      <th>9996</th>\n      <td>user9996</td>\n      <td>0</td>\n      <td>0</td>\n      <td>0</td>\n      <td>0</td>\n      <td>0</td>\n      <td>0</td>\n      <td>0</td>\n      <td>0</td>\n      <td>0</td>\n      <td>...</td>\n      <td>0</td>\n      <td>0</td>\n      <td>0</td>\n      <td>0</td>\n      <td>0</td>\n      <td>0</td>\n      <td>0</td>\n      <td>0</td>\n      <td>0</td>\n      <td>0</td>\n    </tr>\n    <tr>\n      <th>9997</th>\n      <td>user9997</td>\n      <td>4</td>\n      <td>0</td>\n      <td>0</td>\n      <td>4</td>\n      <td>4</td>\n      <td>0</td>\n      <td>4</td>\n      <td>4</td>\n      <td>4</td>\n      <td>...</td>\n      <td>4</td>\n      <td>4</td>\n      <td>4</td>\n      <td>4</td>\n      <td>4</td>\n      <td>4</td>\n      <td>4</td>\n      <td>4</td>\n      <td>4</td>\n      <td>4</td>\n    </tr>\n    <tr>\n      <th>9998</th>\n      <td>user9998</td>\n      <td>9</td>\n      <td>9</td>\n      <td>9</td>\n      <td>0</td>\n      <td>9</td>\n      <td>0</td>\n      <td>9</td>\n      <td>0</td>\n      <td>9</td>\n      <td>...</td>\n      <td>9</td>\n      <td>9</td>\n      <td>9</td>\n      <td>9</td>\n      <td>9</td>\n      <td>9</td>\n      <td>0</td>\n      <td>9</td>\n      <td>0</td>\n      <td>9</td>\n    </tr>\n    <tr>\n      <th>9999</th>\n      <td>user9999</td>\n      <td>0</td>\n      <td>3</td>\n      <td>3</td>\n      <td>3</td>\n      <td>0</td>\n      <td>0</td>\n      <td>3</td>\n      <td>3</td>\n      <td>0</td>\n      <td>...</td>\n      <td>3</td>\n      <td>3</td>\n      <td>3</td>\n      <td>3</td>\n      <td>3</td>\n      <td>3</td>\n      <td>3</td>\n      <td>3</td>\n      <td>3</td>\n      <td>3</td>\n    </tr>\n  </tbody>\n</table>\n<p>10000 rows × 103 columns</p>\n</div>"
     },
     "execution_count": 5,
     "metadata": {},
     "output_type": "execute_result"
    }
   ],
   "source": [
    "item_based"
   ],
   "metadata": {
    "collapsed": false,
    "ExecuteTime": {
     "end_time": "2023-11-08T10:46:48.635058400Z",
     "start_time": "2023-11-08T10:46:48.577528800Z"
    }
   },
   "id": "90ef42691fe2708c"
  },
  {
   "cell_type": "code",
   "execution_count": 6,
   "outputs": [],
   "source": [
    "item_based.set_index('user', inplace=True)"
   ],
   "metadata": {
    "collapsed": false,
    "ExecuteTime": {
     "end_time": "2023-11-08T10:46:48.637071500Z",
     "start_time": "2023-11-08T10:46:48.621082300Z"
    }
   },
   "id": "157f8ca754e16042"
  },
  {
   "cell_type": "code",
   "execution_count": 6,
   "outputs": [],
   "source": [],
   "metadata": {
    "collapsed": false,
    "ExecuteTime": {
     "end_time": "2023-11-08T10:46:48.658045100Z",
     "start_time": "2023-11-08T10:46:48.636054300Z"
    }
   },
   "id": "cdd2e367c8549365"
  },
  {
   "cell_type": "code",
   "execution_count": 7,
   "outputs": [],
   "source": [
    "# 计算物品之间的相似度\n",
    "item_similar = cosine_similarity(item_based.T)"
   ],
   "metadata": {
    "collapsed": false,
    "ExecuteTime": {
     "end_time": "2023-11-08T10:46:49.044628300Z",
     "start_time": "2023-11-08T10:46:48.656047300Z"
    }
   },
   "id": "dfc1c73b50af7a4"
  },
  {
   "cell_type": "code",
   "execution_count": 8,
   "outputs": [
    {
     "data": {
      "text/plain": "array([[1.        , 0.79624411, 0.80176527, ..., 0.79693492, 0.80177486,\n        0.801508  ],\n       [0.79624411, 1.        , 0.79186749, ..., 0.79685064, 0.79892985,\n        0.80246752],\n       [0.80176527, 0.79186749, 1.        , ..., 0.79192669, 0.79342223,\n        0.79835404],\n       ...,\n       [0.79693492, 0.79685064, 0.79192669, ..., 1.        , 0.80258136,\n        0.80931837],\n       [0.80177486, 0.79892985, 0.79342223, ..., 0.80258136, 1.        ,\n        0.80821219],\n       [0.801508  , 0.80246752, 0.79835404, ..., 0.80931837, 0.80821219,\n        1.        ]])"
     },
     "execution_count": 8,
     "metadata": {},
     "output_type": "execute_result"
    }
   ],
   "source": [
    "item_similar"
   ],
   "metadata": {
    "collapsed": false,
    "ExecuteTime": {
     "end_time": "2023-11-08T10:46:49.046627300Z",
     "start_time": "2023-11-08T10:46:49.031636Z"
    }
   },
   "id": "95da8091f1b0aa7b"
  },
  {
   "cell_type": "code",
   "execution_count": 9,
   "outputs": [],
   "source": [
    "# 将相似度矩阵转换为数据框\n",
    "item_similar_df = pd.DataFrame(item_similar, index=item_based.columns, columns=item_based.columns)"
   ],
   "metadata": {
    "collapsed": false,
    "ExecuteTime": {
     "end_time": "2023-11-08T10:46:49.066614300Z",
     "start_time": "2023-11-08T10:46:49.045627900Z"
    }
   },
   "id": "32d7e3447a6bb3d4"
  },
  {
   "cell_type": "code",
   "execution_count": 10,
   "outputs": [
    {
     "data": {
      "text/plain": "                   CSS3      HTML  Googlemap  Memcached      name       Git  \\\nCSS3           1.000000  0.796244   0.801765   0.804001  0.803034  0.798258   \nHTML           0.796244  1.000000   0.791867   0.799076  0.803123  0.796796   \nGooglemap      0.801765  0.791867   1.000000   0.804621  0.799657  0.795393   \nMemcached      0.804001  0.799076   0.804621   1.000000  0.801366  0.795439   \nname           0.803034  0.803123   0.799657   0.801366  1.000000  0.801216   \n...                 ...       ...        ...        ...       ...       ...   \nAngularJS2     0.800628  0.793875   0.794231   0.798851  0.797410  0.797806   \nReact          0.803396  0.802107   0.798407   0.809437  0.806541  0.805318   \nRuby           0.796935  0.796851   0.791927   0.807607  0.800239  0.799743   \njQueryEasyUI   0.801775  0.798930   0.793422   0.803774  0.803718  0.795062   \nregular        0.801508  0.802468   0.798354   0.806925  0.808410  0.801736   \n\n                    Cpp  jQueryUI     NumPy     Julia  ...      HTTP  \\\nCSS3           0.805553  0.801574  0.801133  0.801331  ...  0.810557   \nHTML           0.801182  0.795868  0.796749  0.795970  ...  0.796510   \nGooglemap      0.803293  0.793460  0.798984  0.798508  ...  0.799733   \nMemcached      0.806400  0.806586  0.805598  0.802315  ...  0.804670   \nname           0.808918  0.803120  0.799150  0.802183  ...  0.803337   \n...                 ...       ...       ...       ...  ...       ...   \nAngularJS2     0.804076  0.793817  0.796092  0.796787  ...  0.796726   \nReact          0.807996  0.799260  0.804924  0.802904  ...  0.804003   \nRuby           0.803479  0.797277  0.804242  0.800360  ...  0.808279   \njQueryEasyUI   0.801856  0.800365  0.803910  0.799873  ...  0.803296   \nregular        0.809852  0.806553  0.805295  0.807266  ...  0.802519   \n\n                      R  WebForms  Markdown       Lua  AngularJS2     React  \\\nCSS3           0.801651  0.803563  0.797428  0.797969    0.800628  0.803396   \nHTML           0.796696  0.794343  0.795035  0.791738    0.793875  0.802107   \nGooglemap      0.798822  0.793878  0.794928  0.796770    0.794231  0.798407   \nMemcached      0.801782  0.806870  0.798767  0.800245    0.798851  0.809437   \nname           0.797881  0.802275  0.791710  0.796286    0.797410  0.806541   \n...                 ...       ...       ...       ...         ...       ...   \nAngularJS2     0.793658  0.790515  0.795103  0.793803    1.000000  0.797034   \nReact          0.802025  0.801259  0.797538  0.797789    0.797034  1.000000   \nRuby           0.808452  0.800762  0.793081  0.798742    0.800944  0.804841   \njQueryEasyUI   0.803513  0.799074  0.792542  0.797809    0.794831  0.798527   \nregular        0.805585  0.806245  0.804264  0.802763    0.799822  0.805971   \n\n                   Ruby  jQueryEasyUI    regular  \nCSS3           0.796935       0.801775  0.801508  \nHTML           0.796851       0.798930  0.802468  \nGooglemap      0.791927       0.793422  0.798354  \nMemcached      0.807607       0.803774  0.806925  \nname           0.800239       0.803718  0.808410  \n...                 ...            ...       ...  \nAngularJS2     0.800944       0.794831  0.799822  \nReact          0.804841       0.798527  0.805971  \nRuby           1.000000       0.802581  0.809318  \njQueryEasyUI   0.802581       1.000000  0.808212  \nregular        0.809318       0.808212  1.000000  \n\n[102 rows x 102 columns]",
      "text/html": "<div>\n<style scoped>\n    .dataframe tbody tr th:only-of-type {\n        vertical-align: middle;\n    }\n\n    .dataframe tbody tr th {\n        vertical-align: top;\n    }\n\n    .dataframe thead th {\n        text-align: right;\n    }\n</style>\n<table border=\"1\" class=\"dataframe\">\n  <thead>\n    <tr style=\"text-align: right;\">\n      <th></th>\n      <th>CSS3</th>\n      <th>HTML</th>\n      <th>Googlemap</th>\n      <th>Memcached</th>\n      <th>name</th>\n      <th>Git</th>\n      <th>Cpp</th>\n      <th>jQueryUI</th>\n      <th>NumPy</th>\n      <th>Julia</th>\n      <th>...</th>\n      <th>HTTP</th>\n      <th>R</th>\n      <th>WebForms</th>\n      <th>Markdown</th>\n      <th>Lua</th>\n      <th>AngularJS2</th>\n      <th>React</th>\n      <th>Ruby</th>\n      <th>jQueryEasyUI</th>\n      <th>regular</th>\n    </tr>\n  </thead>\n  <tbody>\n    <tr>\n      <th>CSS3</th>\n      <td>1.000000</td>\n      <td>0.796244</td>\n      <td>0.801765</td>\n      <td>0.804001</td>\n      <td>0.803034</td>\n      <td>0.798258</td>\n      <td>0.805553</td>\n      <td>0.801574</td>\n      <td>0.801133</td>\n      <td>0.801331</td>\n      <td>...</td>\n      <td>0.810557</td>\n      <td>0.801651</td>\n      <td>0.803563</td>\n      <td>0.797428</td>\n      <td>0.797969</td>\n      <td>0.800628</td>\n      <td>0.803396</td>\n      <td>0.796935</td>\n      <td>0.801775</td>\n      <td>0.801508</td>\n    </tr>\n    <tr>\n      <th>HTML</th>\n      <td>0.796244</td>\n      <td>1.000000</td>\n      <td>0.791867</td>\n      <td>0.799076</td>\n      <td>0.803123</td>\n      <td>0.796796</td>\n      <td>0.801182</td>\n      <td>0.795868</td>\n      <td>0.796749</td>\n      <td>0.795970</td>\n      <td>...</td>\n      <td>0.796510</td>\n      <td>0.796696</td>\n      <td>0.794343</td>\n      <td>0.795035</td>\n      <td>0.791738</td>\n      <td>0.793875</td>\n      <td>0.802107</td>\n      <td>0.796851</td>\n      <td>0.798930</td>\n      <td>0.802468</td>\n    </tr>\n    <tr>\n      <th>Googlemap</th>\n      <td>0.801765</td>\n      <td>0.791867</td>\n      <td>1.000000</td>\n      <td>0.804621</td>\n      <td>0.799657</td>\n      <td>0.795393</td>\n      <td>0.803293</td>\n      <td>0.793460</td>\n      <td>0.798984</td>\n      <td>0.798508</td>\n      <td>...</td>\n      <td>0.799733</td>\n      <td>0.798822</td>\n      <td>0.793878</td>\n      <td>0.794928</td>\n      <td>0.796770</td>\n      <td>0.794231</td>\n      <td>0.798407</td>\n      <td>0.791927</td>\n      <td>0.793422</td>\n      <td>0.798354</td>\n    </tr>\n    <tr>\n      <th>Memcached</th>\n      <td>0.804001</td>\n      <td>0.799076</td>\n      <td>0.804621</td>\n      <td>1.000000</td>\n      <td>0.801366</td>\n      <td>0.795439</td>\n      <td>0.806400</td>\n      <td>0.806586</td>\n      <td>0.805598</td>\n      <td>0.802315</td>\n      <td>...</td>\n      <td>0.804670</td>\n      <td>0.801782</td>\n      <td>0.806870</td>\n      <td>0.798767</td>\n      <td>0.800245</td>\n      <td>0.798851</td>\n      <td>0.809437</td>\n      <td>0.807607</td>\n      <td>0.803774</td>\n      <td>0.806925</td>\n    </tr>\n    <tr>\n      <th>name</th>\n      <td>0.803034</td>\n      <td>0.803123</td>\n      <td>0.799657</td>\n      <td>0.801366</td>\n      <td>1.000000</td>\n      <td>0.801216</td>\n      <td>0.808918</td>\n      <td>0.803120</td>\n      <td>0.799150</td>\n      <td>0.802183</td>\n      <td>...</td>\n      <td>0.803337</td>\n      <td>0.797881</td>\n      <td>0.802275</td>\n      <td>0.791710</td>\n      <td>0.796286</td>\n      <td>0.797410</td>\n      <td>0.806541</td>\n      <td>0.800239</td>\n      <td>0.803718</td>\n      <td>0.808410</td>\n    </tr>\n    <tr>\n      <th>...</th>\n      <td>...</td>\n      <td>...</td>\n      <td>...</td>\n      <td>...</td>\n      <td>...</td>\n      <td>...</td>\n      <td>...</td>\n      <td>...</td>\n      <td>...</td>\n      <td>...</td>\n      <td>...</td>\n      <td>...</td>\n      <td>...</td>\n      <td>...</td>\n      <td>...</td>\n      <td>...</td>\n      <td>...</td>\n      <td>...</td>\n      <td>...</td>\n      <td>...</td>\n      <td>...</td>\n    </tr>\n    <tr>\n      <th>AngularJS2</th>\n      <td>0.800628</td>\n      <td>0.793875</td>\n      <td>0.794231</td>\n      <td>0.798851</td>\n      <td>0.797410</td>\n      <td>0.797806</td>\n      <td>0.804076</td>\n      <td>0.793817</td>\n      <td>0.796092</td>\n      <td>0.796787</td>\n      <td>...</td>\n      <td>0.796726</td>\n      <td>0.793658</td>\n      <td>0.790515</td>\n      <td>0.795103</td>\n      <td>0.793803</td>\n      <td>1.000000</td>\n      <td>0.797034</td>\n      <td>0.800944</td>\n      <td>0.794831</td>\n      <td>0.799822</td>\n    </tr>\n    <tr>\n      <th>React</th>\n      <td>0.803396</td>\n      <td>0.802107</td>\n      <td>0.798407</td>\n      <td>0.809437</td>\n      <td>0.806541</td>\n      <td>0.805318</td>\n      <td>0.807996</td>\n      <td>0.799260</td>\n      <td>0.804924</td>\n      <td>0.802904</td>\n      <td>...</td>\n      <td>0.804003</td>\n      <td>0.802025</td>\n      <td>0.801259</td>\n      <td>0.797538</td>\n      <td>0.797789</td>\n      <td>0.797034</td>\n      <td>1.000000</td>\n      <td>0.804841</td>\n      <td>0.798527</td>\n      <td>0.805971</td>\n    </tr>\n    <tr>\n      <th>Ruby</th>\n      <td>0.796935</td>\n      <td>0.796851</td>\n      <td>0.791927</td>\n      <td>0.807607</td>\n      <td>0.800239</td>\n      <td>0.799743</td>\n      <td>0.803479</td>\n      <td>0.797277</td>\n      <td>0.804242</td>\n      <td>0.800360</td>\n      <td>...</td>\n      <td>0.808279</td>\n      <td>0.808452</td>\n      <td>0.800762</td>\n      <td>0.793081</td>\n      <td>0.798742</td>\n      <td>0.800944</td>\n      <td>0.804841</td>\n      <td>1.000000</td>\n      <td>0.802581</td>\n      <td>0.809318</td>\n    </tr>\n    <tr>\n      <th>jQueryEasyUI</th>\n      <td>0.801775</td>\n      <td>0.798930</td>\n      <td>0.793422</td>\n      <td>0.803774</td>\n      <td>0.803718</td>\n      <td>0.795062</td>\n      <td>0.801856</td>\n      <td>0.800365</td>\n      <td>0.803910</td>\n      <td>0.799873</td>\n      <td>...</td>\n      <td>0.803296</td>\n      <td>0.803513</td>\n      <td>0.799074</td>\n      <td>0.792542</td>\n      <td>0.797809</td>\n      <td>0.794831</td>\n      <td>0.798527</td>\n      <td>0.802581</td>\n      <td>1.000000</td>\n      <td>0.808212</td>\n    </tr>\n    <tr>\n      <th>regular</th>\n      <td>0.801508</td>\n      <td>0.802468</td>\n      <td>0.798354</td>\n      <td>0.806925</td>\n      <td>0.808410</td>\n      <td>0.801736</td>\n      <td>0.809852</td>\n      <td>0.806553</td>\n      <td>0.805295</td>\n      <td>0.807266</td>\n      <td>...</td>\n      <td>0.802519</td>\n      <td>0.805585</td>\n      <td>0.806245</td>\n      <td>0.804264</td>\n      <td>0.802763</td>\n      <td>0.799822</td>\n      <td>0.805971</td>\n      <td>0.809318</td>\n      <td>0.808212</td>\n      <td>1.000000</td>\n    </tr>\n  </tbody>\n</table>\n<p>102 rows × 102 columns</p>\n</div>"
     },
     "execution_count": 10,
     "metadata": {},
     "output_type": "execute_result"
    }
   ],
   "source": [
    "item_similar_df"
   ],
   "metadata": {
    "collapsed": false,
    "ExecuteTime": {
     "end_time": "2023-11-08T10:46:49.127093200Z",
     "start_time": "2023-11-08T10:46:49.061617800Z"
    }
   },
   "id": "f62e65dda83eab23"
  },
  {
   "cell_type": "code",
   "execution_count": 11,
   "outputs": [],
   "source": [
    "# 计算与物品A最相似的前K个物品\n",
    "def top_k_similar_items(similar_df, item, k=10):\n",
    "    return similar_df[item].sort_values(ascending=False)[:k].to_dict()"
   ],
   "metadata": {
    "collapsed": false,
    "ExecuteTime": {
     "end_time": "2023-11-08T10:46:49.143083200Z",
     "start_time": "2023-11-08T10:46:49.109102300Z"
    }
   },
   "id": "6d0ef309df0b8577"
  },
  {
   "cell_type": "code",
   "execution_count": 12,
   "outputs": [
    {
     "data": {
      "text/plain": "{'RSS': 1.0000000000000002,\n 'SQLite': 0.804114675197077,\n 'WebService': 0.8039374751787819,\n 'WebForms': 0.803826161903227,\n 'Razor': 0.8029142732052966,\n 'Eclipse': 0.8022534615865435,\n 'VBScript': 0.8021609574998599,\n 'Scala': 0.8019679778998381,\n 'MySQL': 0.8019654174090257,\n 'XPath': 0.8018736266119671}"
     },
     "execution_count": 12,
     "metadata": {},
     "output_type": "execute_result"
    }
   ],
   "source": [
    "top_k_similar_items(item_similar_df, 'RSS')"
   ],
   "metadata": {
    "collapsed": false,
    "ExecuteTime": {
     "end_time": "2023-11-08T10:46:49.149079900Z",
     "start_time": "2023-11-08T10:46:49.125096Z"
    }
   },
   "id": "9f5165110e48048e"
  },
  {
   "cell_type": "code",
   "execution_count": 13,
   "outputs": [],
   "source": [
    "# 计算用户对物品的偏好\n",
    "def get_user_item_score(user, item, similar_df):\n",
    "    similar_items = top_k_similar_items(similar_df, item)\n",
    "    user_item_score = 0\n",
    "    for item, score in similar_items.items():\n",
    "        user_item_score += item_based.loc[user, item] * score\n",
    "    return user_item_score"
   ],
   "metadata": {
    "collapsed": false,
    "ExecuteTime": {
     "end_time": "2023-11-08T10:46:49.243541700Z",
     "start_time": "2023-11-08T10:46:49.141085500Z"
    }
   },
   "id": "3b36616406fe58bd"
  },
  {
   "cell_type": "code",
   "execution_count": 14,
   "outputs": [
    {
     "data": {
      "text/plain": "16.45002805298323"
     },
     "execution_count": 14,
     "metadata": {},
     "output_type": "execute_result"
    }
   ],
   "source": [
    "get_user_item_score('user0', 'RSS', item_similar_df)"
   ],
   "metadata": {
    "collapsed": false,
    "ExecuteTime": {
     "end_time": "2023-11-08T10:46:49.244541Z",
     "start_time": "2023-11-08T10:46:49.154077600Z"
    }
   },
   "id": "a68678cf2ed3488"
  },
  {
   "cell_type": "code",
   "execution_count": 15,
   "outputs": [],
   "source": [
    "# 为用户推荐物品\n",
    "def recommend(user, similar_df):\n",
    "    user_items = item_based.loc[user]\n",
    "    user_items = user_items[user_items == 0].index\n",
    "    scores = []\n",
    "    for item in user_items:\n",
    "        score = get_user_item_score(user, item, similar_df)\n",
    "        scores.append(score)\n",
    "    return pd.Series(scores, index=user_items).sort_values(ascending=False)"
   ],
   "metadata": {
    "collapsed": false,
    "ExecuteTime": {
     "end_time": "2023-11-08T10:46:49.245539600Z",
     "start_time": "2023-11-08T10:46:49.174066300Z"
    }
   },
   "id": "7fa544aef70ca4ea"
  },
  {
   "cell_type": "code",
   "execution_count": 16,
   "outputs": [
    {
     "data": {
      "text/plain": "Scipy            12.959821\nASP              12.958594\nMaven            12.935239\nDocker           12.823214\nionic            11.332921\nRDF              11.320317\nHighcharts       11.306242\nSvn              11.299696\njQueryEasyUI     11.287312\nJSP              11.281686\nMVC              11.256365\nReact             9.716428\nregular           9.710821\nJavaScript        9.696802\nPython2x          9.691745\nR                 9.684538\nW3C               9.662384\nCSS               9.656746\nXQuery            9.645739\nMatplotlib        8.069793\nVuejs             8.062822\nXPointer          8.055252\nPython            8.041723\nSQL               6.475170\nservlet           6.461350\nTypeScript        6.442327\nEcharts           6.439392\nAngularJS         4.840646\ndtype: float64"
     },
     "execution_count": 16,
     "metadata": {},
     "output_type": "execute_result"
    }
   ],
   "source": [
    "recommend('user0', item_similar_df)"
   ],
   "metadata": {
    "collapsed": false,
    "ExecuteTime": {
     "end_time": "2023-11-08T10:46:49.292532600Z",
     "start_time": "2023-11-08T10:46:49.187056900Z"
    }
   },
   "id": "23e9d25711e5e14a"
  },
  {
   "cell_type": "code",
   "execution_count": 17,
   "outputs": [],
   "source": [
    "# 根据物品推荐用户\n",
    "def recommend_user(item, similar_df):\n",
    "    similar_items = top_k_similar_items(similar_df, item)\n",
    "    users = []\n",
    "    for item, score in similar_items.items():\n",
    "        users.extend(item_based[item_based[item] == 1].index)\n",
    "    return pd.Series(users).value_counts()"
   ],
   "metadata": {
    "collapsed": false,
    "ExecuteTime": {
     "end_time": "2023-11-08T10:46:49.344772700Z",
     "start_time": "2023-11-08T10:46:49.232547900Z"
    }
   },
   "id": "40e6334a266eb191"
  },
  {
   "cell_type": "code",
   "execution_count": 18,
   "outputs": [
    {
     "data": {
      "text/plain": "user2875    10\nuser4542    10\nuser9808    10\nuser4019    10\nuser1907    10\n            ..\nuser5261     4\nuser7891     4\nuser4618     4\nuser4811     4\nuser4822     4\nLength: 929, dtype: int64"
     },
     "execution_count": 18,
     "metadata": {},
     "output_type": "execute_result"
    }
   ],
   "source": [
    "recommend_user('RSS', item_similar_df)"
   ],
   "metadata": {
    "collapsed": false,
    "ExecuteTime": {
     "end_time": "2023-11-08T10:46:49.479256900Z",
     "start_time": "2023-11-08T10:46:49.248538900Z"
    }
   },
   "id": "e605b183f282a604"
  },
  {
   "cell_type": "code",
   "execution_count": 18,
   "outputs": [],
   "source": [],
   "metadata": {
    "collapsed": false,
    "ExecuteTime": {
     "end_time": "2023-11-08T10:46:49.492284600Z",
     "start_time": "2023-11-08T10:46:49.279520700Z"
    }
   },
   "id": "16f422de6ea35add"
  }
 ],
 "metadata": {
  "kernelspec": {
   "display_name": "Python 3",
   "language": "python",
   "name": "python3"
  },
  "language_info": {
   "codemirror_mode": {
    "name": "ipython",
    "version": 2
   },
   "file_extension": ".py",
   "mimetype": "text/x-python",
   "name": "python",
   "nbconvert_exporter": "python",
   "pygments_lexer": "ipython2",
   "version": "2.7.6"
  }
 },
 "nbformat": 4,
 "nbformat_minor": 5
}
