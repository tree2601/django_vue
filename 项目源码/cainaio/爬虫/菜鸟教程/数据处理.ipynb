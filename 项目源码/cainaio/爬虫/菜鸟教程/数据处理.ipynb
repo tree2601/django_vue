{
 "cells": [
  {
   "cell_type": "code",
   "execution_count": 1,
   "outputs": [
    {
     "name": "stdout",
     "output_type": "stream",
     "text": [
      "['title', ' 数据分析', ' 服务端', ' 开发工具', ' HTML / CSS', ' 数据库', ' 网站建设', ' ASP.NET', ' JavaScript', ' 移动端', ' Web Service', ' XML 教程']\n"
     ]
    }
   ],
   "source": [
    "#打开designlist.csv文件\n",
    "import csv\n",
    "with open('dataset/designlist1.csv','r',encoding='utf-8') as f:\n",
    "    reader = csv.reader(f)\n",
    "   #获取第二列\n",
    "    column = [row[1] for row in reader]\n",
    "    #去重\n",
    "    column = list(set(column))\n",
    "    print(column)\n",
    "\n"
   ],
   "metadata": {
    "collapsed": false
   }
  },
  {
   "cell_type": "code",
   "execution_count": 2,
   "outputs": [
    {
     "name": "stdout",
     "output_type": "stream",
     "text": [
      "['网站品质', 'HTTP', 'XSL-FO', 'Git', 'Rust', 'Scipy', 'TCP/IP', 'Verilog', 'CSS', 'Eclipse', '网站主机教程', 'Lua', 'SOAP', 'XQuery', 'Go', 'Echarts', 'Swift', 'Kotlin', 'XSLT', 'Node.js', 'JSP', 'name', 'CSS3', 'XML DOM', 'Ruby', 'C#', 'XML', 'HTML', 'MVC', 'JSON', 'SQL', 'Pandas', 'Julia', 'Maven', 'Vue3', 'AJAX', 'XLink', 'Servlet', 'MongoDB', 'Linux', 'Docker', 'SVG', 'W3C', 'ionic', 'ASP', 'Svn', '网站建设指南', '设计模式', 'Java', 'Django', 'DTD', 'RSS', 'NumPy', 'Scala', 'ASP.NET', 'Perl', 'Python', '浏览器信息', 'RDF', 'AppML', 'jQuery', 'MySQL', 'Vue.js', '数据结构与算法', 'R', 'Android', 'React', 'XPath', 'PHP', 'SQLite', 'HTML5', 'C', '正则表达式', 'WSDL', 'Razor', 'C++', 'Redis']\n"
     ]
    }
   ],
   "source": [
    "import csv\n",
    "with open('dataset/list.csv','r',encoding='utf-8') as f:\n",
    "    reader = csv.reader(f)\n",
    "   #获取第二列\n",
    "    column = [row[2] for row in reader]\n",
    "    #去重\n",
    "    column = list(set(column))\n",
    "    #去掉长度大于10的\n",
    "    column = [i for i in column if len(i)<10]\n",
    "    #qu去掉\\n\n",
    "    column = [i.replace('\\n','') for i in column]\n",
    "    print(column)\n"
   ],
   "metadata": {
    "collapsed": false
   }
  },
  {
   "cell_type": "code",
   "execution_count": 3,
   "outputs": [
    {
     "name": "stdout",
     "output_type": "stream",
     "text": [
      "Counter({'Python': 224, 'PHP': 190, 'JavaScript': 172, 'CSS': 154, 'HTML': 148, 'HTML5': 148, 'SQL': 130, 'ASP.NET': 128, 'Web Pages': 128, 'Razor': 128, 'MVC': 128, 'Web Forms': 128, 'jQuery UI': 108, 'Bootstrap3': 106, 'C': 106, 'Java': 104, 'SQLite': 102, 'jQuery': 96, 'MongoDB': 92, 'Ruby': 90, 'C++': 88, 'PostgreSQL': 88, 'Python2.x': 86, 'C#': 82, 'Foundation': 80, 'XML DOM': 80, 'Bootstrap5': 76, 'ionic': 74, '设计模式': 72, 'ASP': 72, 'MySQL': 72, 'Bootstrap4': 70, 'Eclipse': 70, 'jQuery EasyUI ': 68, 'jQuery EasyUI': 68, 'Swift': 66, 'JSP': 64, '数据结构与算法': 64, 'jQuery Mobile': 64, 'Docker': 62, 'Linux': 60, 'Perl': 58, 'R': 58, 'XML': 58, 'Redis': 56, 'AngularJS': 54, 'Node.js': 50, 'NumPy': 50, 'XML Schema': 50, 'CSS3': 48, 'Go': 48, 'Lua': 46, 'Scala': 46, 'Vue.js': 44, 'Vue3': 44, 'TypeScript': 44, 'Rust': 44, 'Memcached': 42, 'SVG': 42, 'Maven': 40, 'XSLT': 40, 'Django': 38, 'Julia': 36, 'Kotlin': 36, 'Font Awesome': 34, 'Highcharts': 32, '网站建设指南': 32, 'W3C': 32, 'React': 30, 'Matplotlib': 30, 'HTML DOM': 28, 'Svn': 28, 'AppML': 26, 'XSL-FO': 26, 'Git': 26, '浏览器信息': 26, 'AJAX': 24, 'JSON': 24, 'Echarts': 24, 'Chart.js': 24, 'Servlet ': 24, 'XQuery': 24, 'Servlet': 24, 'Scipy': 22, 'RDF': 22, '网站主机教程': 22, '正则表达式': 20, 'VBScript': 20, 'DTD': 20, 'SOAP': 20, 'RSS': 20, 'Markdown': 20, 'Google 地图': 18, 'XPath': 18, 'HTTP': 18, 'AngularJS2': 16, 'Pandas': 16, 'WSDL': 16, 'XLink': 14, 'XPointer': 14, '网站品质': 14, 'Web Service': 12, 'TCP/IP': 10, 'name': 1})\n"
     ]
    }
   ],
   "source": [
    "\n",
    "#打开第三列\n",
    "with open('dataset/word.csv','w',encoding='utf-8') as f:\n",
    "    writer = csv.writer(f)\n",
    "    #写入头\n",
    "    writer.writerow(['word','count'])\n",
    "\n",
    "import csv\n",
    "\n",
    "with open('dataset/designlist1.csv','r',encoding='utf-8',newline='') as f:\n",
    "    from collections import Counter\n",
    "    reader = csv.reader(f)\n",
    "   #获取第二列\n",
    "    column = [row[2] for row in reader]\n",
    "    # #如果长度大于10，就获取【】内的内容\n",
    "    column = [i[i.find('【')+1:i.find('】')] if len(i)>10 else i for i in column]\n",
    "    #如果有\\n，'学习 '就去掉\n",
    "    column = [i.replace('\\n','').replace('学习 ','') for i in column]\n",
    "\n",
    "\n",
    "    # #统计词频\n",
    "    print(Counter(column))\n",
    "    #写入csv\n",
    "    with open('dataset/word.csv','a',encoding='utf-8',newline='') as f:\n",
    "        writer = csv.writer(f)\n",
    "        for i in Counter(column).items():\n",
    "            writer.writerow(i)\n",
    "\n",
    "\n"
   ],
   "metadata": {
    "collapsed": false
   }
  },
  {
   "cell_type": "code",
   "execution_count": 57,
   "outputs": [
    {
     "name": "stdout",
     "output_type": "stream",
     "text": [
      "['jQuery EasyUI ', 'JSON', 'PHP', 'jQuery', 'Web Service', 'XLink', 'XQuery', 'HTML5', 'AngularJS2', 'Ruby', 'VBScript', 'HTML DOM', 'Bootstrap5', 'XSLT', '数据结构与算法', 'TCP/IP', 'Web Pages', 'RSS', 'name', 'React', '正则表达式', 'Highcharts', 'NumPy', 'PostgreSQL', 'RDF', 'Bootstrap3', 'XPointer', 'Go', 'Maven', '网站品质', 'Eclipse', 'Svn', 'C', 'SQL', 'XML Schema', 'Memcached', '设计模式', 'Servlet', 'Markdown', 'Kotlin', 'AppML', 'SVG', 'Rust', 'Perl', 'C#', 'R', 'Linux', 'Web Forms', 'WSDL', 'Java', 'HTML', 'jQuery Mobile', 'SOAP', 'MVC', 'W3C', 'DTD', 'AJAX', 'JavaScript', 'Bootstrap4', 'Servlet ', 'Pandas', 'ASP.NET', '浏览器信息', 'Git', 'jQuery EasyUI', 'ionic', '网站主机教程', 'XML', 'Echarts', 'Scala', 'Django', 'AngularJS', 'Redis', 'Julia', 'SQLite', 'Vue3', 'HTTP', 'Vue.js', 'Foundation', 'Python2.x', 'MySQL', 'ASP', 'XSL-FO', 'jQuery UI', 'Google 地图', 'CSS', '网站建设指南', 'Node.js', 'JSP', 'Razor', 'XML DOM', 'MongoDB', 'XPath', 'C++', 'Chart.js', 'Docker', 'Python', 'Font Awesome', 'Matplotlib', 'CSS3', 'TypeScript', 'Swift', 'Lua', 'Scipy']\n"
     ]
    }
   ],
   "source": [
    "import csv\n",
    "\n",
    "with open('dataset/designlist1.csv','r',encoding='utf-8',newline='') as f:\n",
    "    from collections import Counter\n",
    "    reader = csv.reader(f)\n",
    "   #获取第二列\n",
    "    column = [row[2] for row in reader]\n",
    "    # #如果长度大于10，就获取【】内的内容\n",
    "    column = [i[i.find('【')+1:i.find('】')] if len(i)>10 else i for i in column]\n",
    "    #如果有\\n，'学习 '就去掉\n",
    "    column = [i.replace('\\n','').replace('学习 ','') for i in column]\n",
    "    #去重\n",
    "    column = list(set(column))\n",
    "    print(column)"
   ],
   "metadata": {
    "collapsed": false
   }
  },
  {
   "cell_type": "code",
   "execution_count": 56,
   "outputs": [
    {
     "name": "stderr",
     "output_type": "stream",
     "text": [
      "IOPub data rate exceeded.\n",
      "The notebook server will temporarily stop sending output\n",
      "to the client in order to avoid crashing it.\n",
      "To change this limit, set the config variable\n",
      "`--NotebookApp.iopub_data_rate_limit`.\n",
      "\n",
      "Current values:\n",
      "NotebookApp.iopub_data_rate_limit=1000000.0 (bytes/sec)\n",
      "NotebookApp.rate_limit_window=3.0 (secs)\n",
      "\n"
     ]
    }
   ],
   "source": [
    "\n",
    "\n"
   ],
   "metadata": {
    "collapsed": false
   }
  }
 ],
 "metadata": {
  "kernelspec": {
   "display_name": "Python 3",
   "language": "python",
   "name": "python3"
  },
  "language_info": {
   "codemirror_mode": {
    "name": "ipython",
    "version": 2
   },
   "file_extension": ".py",
   "mimetype": "text/x-python",
   "name": "python",
   "nbconvert_exporter": "python",
   "pygments_lexer": "ipython2",
   "version": "2.7.6"
  }
 },
 "nbformat": 4,
 "nbformat_minor": 0
}
